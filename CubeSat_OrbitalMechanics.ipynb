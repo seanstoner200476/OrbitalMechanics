{
 "cells": [
  {
   "cell_type": "markdown",
   "id": "c8604e0c",
   "metadata": {},
   "source": [
    "## Kepler's Laws of Satellite Orbits"
   ]
  },
  {
   "cell_type": "markdown",
   "id": "448e89c4",
   "metadata": {},
   "source": [
    "<h4> Kepler's 1'st Law: </h4>\n",
    "\n",
    "The orbit of a planet is an ellipse with the sun at one of 2 focal points as seen in the graphic below<br>\n",
    "\n",
    "<img align=\"left\" src=\"K1stlaw.png\" width=\"800\" height=\"700\">\n",
    "<br><br><br><br><br><br><br><br><br><br><br><br><br><br><br><br><br><br><br><br><br><br>\n",
    "<p>\n",
    "    Mathematically an ellipse, also known as a conic section, can be expressed in polar coordinates with the formula $r=\\frac{p}{1+\\epsilon \\ cos \\ \\theta}$ <br>\n",
    "    Where:<br>\n",
    "    $p$ is the semi-latus rectum <br>\n",
    "    &nbsp;&nbsp;&nbsp;&nbsp;&nbsp;&nbsp; The semi-minor axis is the harmonic mean between $ r_{min} $ and $ r_{max} $<br>\n",
    "    &nbsp;&nbsp;&nbsp;&nbsp;&nbsp;&nbsp; The harmonic mean is the reciprocal of the arithmetic mean so for example the harmonic mean of<br>\n",
    "    &nbsp;&nbsp;&nbsp;&nbsp;&nbsp;&nbsp; 1 3 and 5 would be $ \\frac{3}{\\frac{1}{1} \\ + \\ \\frac{1}{3} \\ + \\ \\frac{1}{5}} $<br>\n",
    "    &nbsp;&nbsp;&nbsp;&nbsp;&nbsp;&nbsp; Compared to the arithmetic mean the harmonic mean tends to minimize the impact of large outliers<br>\n",
    "    &nbsp;&nbsp;&nbsp;&nbsp;&nbsp;&nbsp; and aggravate the impact<br>\n",
    "    &nbsp;&nbsp;&nbsp;&nbsp;&nbsp;&nbsp; small ones. This is represented mathematically as: $ \\frac{2}{\\frac{1}{r_{min}} + \\frac{1}{r_{max}}} $ and\n",
    "    It has the following relationships $\\frac{1}{r_{min}} - \\frac{1}{p}  =  \\frac{1}{p} - \\frac{1}{r_{max}} $ and \n",
    "    $pa = r_{max}r_{min} = b^2 $<br>\n",
    "    $a$ is the semi-major axis <br>\n",
    "    &nbsp;&nbsp;&nbsp;&nbsp;&nbsp;&nbsp; The semi-major axis is the arithmetic mean between $ r_{min} $ and $ r_{max} $<br>\n",
    "    &nbsp;&nbsp;&nbsp;&nbsp;&nbsp;&nbsp; This is represented mathematically as: $ \\frac{r_{min} + r_{max}}{2} $ and\n",
    "    It has the following relationships: $ r_{max}-a = a-r_{min} $ and $ a=\\frac{p}{1-\\epsilon^2} $<br>\n",
    "    $b$ is the semi-minor axis <br>\n",
    "    &nbsp;&nbsp;&nbsp;&nbsp;&nbsp;&nbsp; The semi-minor axis is the geometric mean between $ r_{max} $ and $ r_{min} $<br>\n",
    "    &nbsp;&nbsp;&nbsp;&nbsp;&nbsp;&nbsp; The geometric mean is typical value of a set of number and is produced using the<br>\n",
    "    &nbsp;&nbsp;&nbsp;&nbsp;&nbsp;&nbsp; product of the values instead of the sum like the arithmetic mean and is represented as $ \\sqrt[n]{x_{1} \\cdot x_{2}...x_{n}} $ <br>\n",
    "    &nbsp;&nbsp;&nbsp;&nbsp;&nbsp;&nbsp; It has the following relationships: $ \\frac{r_{max}}{b} = \\frac{b}{r_{min}} $ and $ b=\\frac{p}{\\sqrt{1-\\epsilon^2}} $<br>\n",
    "    $ r $ Is the magnitude of the position vector in terms of it's orbital location $ |\\vec{r}| = r $ <br>\n",
    "    $\\epsilon$ is the eccentricity of the orbit which is the coefficient of variation between $ r_{max} $ and $ r_{min} $<br>\n",
    "    &nbsp;&nbsp;&nbsp;&nbsp;&nbsp;&nbsp; This is represented mathematically as: $\\epsilon = \\frac{r_{max}-r_{min}}{r_{max}+r_{min}} $ <br>\n",
    "    $\\theta$ is the angle between the planet's current position to its closest position<br>\n",
    "    &nbsp;&nbsp;&nbsp;&nbsp;&nbsp;&nbsp;The special case of an ellipse with an $ \\epsilon $ of 0 is a circle as the equation becomes \n",
    "    $ r=\\frac{p}{1} = p $ <br>\n",
    "    $ A $ is the area of the orbit <br>\n",
    "    &nbsp;&nbsp;&nbsp;&nbsp;&nbsp;&nbsp; This is represented mathematically as: $ A=\\pi ab $\n",
    "    \n",
    "</p>"
   ]
  },
  {
   "cell_type": "markdown",
   "id": "1fd9d44a",
   "metadata": {},
   "source": [
    "<h4> Kepler's 2'nd Law:</h4>\n",
    "<p>\n",
    "    A line segment joining a planet and the Sun sweeps out equal areas during equal intervals of time.[6]<br><br>\n",
    "    As demonstrated in the graphic below a planet in an elliptical orbit will have an angular velocity that <br>\n",
    "    varies inversely to it's distance from the sun.  In other words a planet will travel faster as it gets <br>\n",
    "    closer to the sun and slower as it gets further away<br>\n",
    "    <img align=\"left\" src=\"K2ndlaw.gif\" width=400; height=200;>[6]<br>\n",
    "</p>\n",
    "<br><br><br><br><br><br><br><br><br><br><br><br>\n",
    "<p>\n",
    "    In a small time, denoted, $ dt $ a planet\n",
    "    \n",
    "    will sweep out a triangle with a base line $ r $, between the planet and the sun, <br>\n",
    "    with a height of $ rd\\theta $ and an area that is $ dA = \\frac{1}{2}rd\\theta $ <br>\n",
    "    <br>\n",
    "    Since the area $ (A) $ of an ellipse is equal to $ \\pi ab $ the period $ (T) $ has to satisfy the following relation:<br>\n",
    "    $T \\cdot \\frac{r^2}{2} \\frac{d\\theta}{dt} = \\pi ab$ <br>\n",
    "    <br>\n",
    "    The mean motion $ (n) $ around the sun equals $ \\frac{2\\pi}{T} $ which satisfies $ r^2 d\\theta = abn \\  dt $ \n",
    "</p>\n",
    "    \n"
   ]
  },
  {
   "cell_type": "markdown",
   "id": "d4aae12b",
   "metadata": {},
   "source": [
    "<h4> Kepler's 3'rd Law:</h4>\n",
    "\n",
    "<p>\n",
    "    The ratio of the square of an object's orbital period with the cube of the semi-major axis of its orbit is the same for all objects orbiting the same primary.[6]<br>\n",
    "    The following table shows the data used by Kepler to empirically derive his 3'rd law:<br>\n",
    "\n",
    " <p>\n",
    "    <img align=\"left\" src=\"Kdata.jpg\" width=300; height=150;> [6]\n",
    "    <br><br><br><br><br><br><br><br><br><br><br><br>\n",
    "    Using modern data the results still hold true <br>\n",
    "    <img align=\"left\" src=\"Wdata.jpg\" width=300; height=150;> [6]\n",
    "    <br><br><br><br><br><br><br><br><br><br><br><br>\n",
    "    The log plot of the semi-major axis vs orbital periods of the planets in our solar system illustrates this relationship<br>\n",
    "    <img align=\"left\" src=\"logpatterns.jpg\" width=500; height=400;>[6] \n",
    "    <br><br><br><br><br><br><br><br><br><br><br><br><br>\n",
    "    <p>\n",
    "        The simplest way to derive this relationship is using Newton's law of gravitation and a satellite in a circular orbit.<br> \n",
    "        By setting the centripetal force equal to the gravitational force as follows and solving for the period (T)<br>\n",
    "    $ mr\\omega ^2 = G\\frac{mM}{r^2} $<br>\n",
    "    Express the angular velocity in terns of orbital period:<br>\n",
    "    $ mr(\\frac{2\\pi}{T})^2 = G\\frac{mM}{r^2} $ <br>\n",
    "    Solve for T:<br>\n",
    "    $ T^2 = (\\frac{4\\pi ^2}{GM}) r^3 $ <br>\n",
    "    Since $ \\frac{4\\pi ^2}{GM} $ is constant.  The relationship of the ratio of the square of an object's orbital period is the cube of the semi-major axis is revealed<br>\n",
    "    $ T^2 \\propto r^3 $\n",
    " \n",
    "    "
   ]
  },
  {
   "cell_type": "markdown",
   "id": "6fcef79e",
   "metadata": {},
   "source": [
    "## Elements of Orbital Geometry\n",
    "There are seven elements needed to determine the geometry of a satellite’s orbit. \n",
    "\n",
    "<p>$a$: &nbsp;&nbsp;&nbsp; Semi-Major Axis</p>\n",
    "<p>$e$: &nbsp;&nbsp;&nbsp; Eccentricity</p>\n",
    "<p>$i$: &nbsp;&nbsp;&nbsp; Inclination</p>\n",
    "<p>$\\Omega$: &nbsp;&nbsp;&nbsp; Right Ascension of Ascending Node (RANN)   </p>   \n",
    "<p>$\\omega$: &nbsp;&nbsp;&nbsp; Argument of Periapsis / Perigee</p>\n",
    "<p>$t_{0} $: &nbsp;&nbsp;&nbsp; Epoch time or initial time at the start of orbit  </p>\n",
    "<p>$v_{0} $: &nbsp;&nbsp;&nbsp; True anomaly at epoch or Angle from periapsis (closest point of orbit) </p>\n",
    "\n"
   ]
  },
  {
   "cell_type": "markdown",
   "id": "2a7e17c1",
   "metadata": {},
   "source": [
    "## Get and Store the Satellites Orbital Data\n",
    "\n",
    "Satellite position data is transmitted in a “Two Line Element” referred to as TLE.  This code is the standard used by both NORAD and NASA.  Ironically this code generally contains 3 lines.  These lines are 0-2 with line 0 being optional and unlabeled.  If line 0 is included it will contain the  satellite’s 24 character name.  Lines 1 and 2 contain the standard Two-Line Orbital Element Set.[2] \n"
   ]
  },
  {
   "cell_type": "markdown",
   "id": "d2ed3105",
   "metadata": {},
   "source": [
    "Line 0 break down:<br>\n",
    "<img align=\"left\" src=\"Field%201.PNG\">[3]\n"
   ]
  },
  {
   "cell_type": "markdown",
   "id": "077edcc0",
   "metadata": {},
   "source": [
    "Line 1 break down:<br>\n",
    "<img align=\"left\" src=\"TLE%20line%201.PNG\">[3]</p>\n",
    "<img align=\"left\" src=\"TLE%20line%201%20meaning.PNG\">"
   ]
  },
  {
   "cell_type": "markdown",
   "id": "a66cabcc",
   "metadata": {},
   "source": [
    "Line 2 break down:<br>\n",
    "<img align=\"left\" src=\"TLE%20line%202.PNG\">[3]</p>\n",
    "<img align=\"left\" src=\"TLE%20line%202%20meaning.PNG\">"
   ]
  },
  {
   "cell_type": "markdown",
   "id": "8a3b5fed",
   "metadata": {},
   "source": [
    "## Bibliography:\n",
    "1. “CubeSat.” Wikipedia, Wikimedia Foundation, 20 June 2021, en.wikipedia.org/wiki/CubeSat. \n",
    "2. CelesTrak: Current NORAD Two-Line Element Sets. Available at https://www.celestrak.com/NORAD/\n",
    "3. “Two-Line Element Set.” Wikipedia, Wikimedia Foundation, 22 Mar. 2021, en.wikipedia.org/wiki/Two-line_element_set. \n",
    "4. \"The Geometry of Orbits: Ellipses, Parabolas, and Hyperbolas\". www.bogan.ca.\n",
    "5. OpenStax, openstax.org/details/books/astronomy. \n",
    "6. “Kepler's Laws of Planetary Motion.” Wikipedia, Wikimedia Foundation, 18 May 2021, en.wikipedia.org/wiki/Kepler%27s_laws_of_planetary_motion. "
   ]
  },
  {
   "cell_type": "code",
   "execution_count": null,
   "id": "ac51cefc",
   "metadata": {},
   "outputs": [],
   "source": [
    "using Pkg\n",
    "\n",
    "Pkg.add(\"PyCall\")\n",
    "Pkg.add(\"QuadGK\")\n",
    "Pkg.add(\"Conda\")\n",
    "Conda.add(\"matplotlib\")"
   ]
  },
  {
   "cell_type": "code",
   "execution_count": 4,
   "id": "0cce6755",
   "metadata": {},
   "outputs": [
    {
     "name": "stdout",
     "output_type": "stream",
     "text": [
      "3.986025446e14\n"
     ]
    }
   ],
   "source": [
    "# Libary imports\n",
    "using Pkg; \n",
    "using PyCall\n",
    "using Conda\n",
    "using Plots\n",
    "using QuadGK\n",
    "\n",
    "# imports for Python packages\n",
    "np   = pyimport(\"numpy\")\n",
    "math = pyimport(\"math\")\n",
    "plt  = pyimport(\"matplotlib.pyplot\")\n",
    "sp   = pyimport(\"scipy\")\n",
    "\n",
    "\n",
    "# Constants\n",
    "Eᵣ = 637100         #Earth's radius in meters\n",
    "Eₘ = 5.9722e24      #Earth's Mass\n",
    "Eω = (2π)/(86400)   #Earth's angular velocity in radians per second\n",
    "Eϵ = 0.016751       #Earth's eccentricity\n",
    "Sᵣ = 695700000      #Sun's radious in meters\n",
    "G  = 6.67430e-11    # Universal gravitational constant in (N*m²)/Kg²\n",
    "μ  = G*Eₘ           #Earth's gravitational constant in m^3/s^2\n",
    "\"\"\"                 \n",
    "    μ = G(Eₘ+Sₘ) where sₘ is the mass of the satellite\n",
    "    since the satellite's mass is much less then the mass\n",
    "    the earth μ ≈ GEₘ\n",
    "\"\"\"\n",
    "\n",
    "function two_body(Params, t, Eₘ)\n",
    "    \"\"\"\n",
    "        This function creates the equations for position and velocity of the objects\n",
    "    \n",
    "    INPUTS:\n",
    "        params:     Array of initial values for position and velocity of each object\n",
    "        \n",
    "        t:          Array of time to integrate over and number of points\n",
    "        Eₘ          Mass of the earth in kg\n",
    "        \n",
    "    RETURNS:\n",
    "        derivs:     Array of positions and velocities of each object \n",
    "        \n",
    "    COMMENTS:\n",
    "    \n",
    "    \"\"\"\n",
    "    # Convert position and velocity to numpy arrays\n",
    "    r₁ = np.array(params[:3])\n",
    "    r₂ = np.array(params[3:6])\n",
    "    v₁ = np.array(params[6:9])\n",
    "    v₂ = np.array(params[9:12])\n",
    "\n",
    "\"\"\"\n",
    "     setup the equation to integrate.\n",
    "     since the mass of the satellite is much smaller that that of the Earth this \n",
    "     application will not calculate the pull on the earth from the satellite\n",
    "\"\"\"\n",
    "    #Calculate the magnatude \n",
    "    r = np.linalg.norm(r₂ - r₁)\n",
    "\n",
    "    # acceleration of satellite for integration\n",
    "    Sₐ = μ * (r₂ - r₁) \\ r ^ 3\n",
    "    Eₐ = 0\n",
    "    # velocity of satellite for integration\n",
    "    Sᵥ = v₁\n",
    "    Eᵥ = 0\n",
    "\n",
    "    # Add positions and velocities to derivs array\n",
    "    ddtpositions=np.concatenate((Sᵥ , Eᵥ))\n",
    "    derivs = np.concatenate(ddtpositions , Sᵥ , Eᵥ)\n",
    "\n",
    "    # Return derivs array\n",
    "    return derivs\n",
    "end\n",
    "\n",
    "println(μ)"
   ]
  },
  {
   "cell_type": "code",
   "execution_count": null,
   "id": "a9a21886",
   "metadata": {},
   "outputs": [],
   "source": []
  },
  {
   "cell_type": "code",
   "execution_count": null,
   "id": "01b4244b",
   "metadata": {},
   "outputs": [],
   "source": []
  }
 ],
 "metadata": {
  "kernelspec": {
   "display_name": "Julia 1.6.1",
   "language": "julia",
   "name": "julia-1.6"
  },
  "language_info": {
   "file_extension": ".jl",
   "mimetype": "application/julia",
   "name": "julia",
   "version": "1.6.1"
  }
 },
 "nbformat": 4,
 "nbformat_minor": 5
}
