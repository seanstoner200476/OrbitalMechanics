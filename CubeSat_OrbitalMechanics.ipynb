{
 "cells": [
  {
   "cell_type": "markdown",
   "id": "c31c754f",
   "metadata": {},
   "source": [
    "## Kepler's Laws of Satellite Orbits"
   ]
  },
  {
   "cell_type": "markdown",
   "id": "448e89c4",
   "metadata": {},
   "source": [
    "<h4> Kepler's 1'st Law: </h4>\n",
    "\n",
    "The orbit of a planet is an ellipse with the sun at one of 2 focal points as seen in the graphic below<br>\n",
    "\n",
    "<img align=\"left\" src=\"K1stlaw.png\" width=\"800\" height=\"700\">\n",
    "<br><br><br><br><br><br><br><br><br><br><br><br><br><br><br><br><br><br><br><br><br><br>\n",
    "<p>\n",
    "    Mathematically an ellipse can be expressed, in polar coordinates, with the formula $r=\\frac{p}{1+\\epsilon \\ cos \\ \\theta}$ <br>\n",
    "    Where:<br>\n",
    "    $P$ is the semi-latus rectum <br>\n",
    "    $ \\ \\ \\ \\ \\ $ The semi-minor axis is the harmonic mean between $ r_{min} $ and $ r_{max} $<br>\n",
    "    $ \\ \\ \\ \\ \\ $ The harmonic mean is the reciprocal of the arithmetic mean so for example the harmonic mean of 1 3 and 5 would be<br>\n",
    "    $ \\ \\ \\ \\ \\ \\frac{3}{\\frac{1}{1} \\ + \\ \\frac{1}{3} \\ + \\ \\frac{1}{5}} $<br>\n",
    "    $ \\ \\ \\ \\ \\ $ Compared to the arithmetic mean the harmonic mean tends to minimize the impact of large outliers and and aggravate the impact<br>\n",
    "    $ \\ \\ \\ \\ \\ $ small ones. This is represented mathematically as: $ \\frac{2}{\\frac{1}{r_{min}} + \\frac{1}{r_{max}}} $ and\n",
    "    It has the following relationships $\\frac{1}{r_{min}} - \\frac{1}{p}  =  \\frac{1}{p} - \\frac{1}{r_{max}} $ and \n",
    "    $pa = r_{max}r_{min} = b^2 $<br>\n",
    "    $a$ is the semi-major axis <br>\n",
    "    $ \\ \\ \\ \\ \\ $ The semi-major axis is the arithmetic mean between $ r_{min} $ and $ r_{max} $<br>\n",
    "    $ \\ \\ \\ \\ \\ $ This is represented mathematically as: $ \\frac{r_{min} + r_{max}}{2} $ and\n",
    "    It has the following relationships: $ r_{max}-a = a-r_{min} $ and $ a=\\frac{P}{1-\\epsilon^2} $<br>\n",
    "    $b$ is the semi-minor axis <br>\n",
    "    $ \\ \\ \\ \\ \\ $ The semi-minor axis is the geometric mean between $ r_{max} $ and $ r_{min} $<br>\n",
    "    $ \\ \\ \\ \\ \\ $ The geometric mean is typical value of a set of number and is produced using the<br>\n",
    "    $ \\ \\ \\ \\ \\ $ product of the values instead of the sum like the arithmetic mean and is represented as $ \\sqrt[n]{x_{1} \\cdot x_{2}...x_{n}} $ <br>\n",
    "    $ \\ \\ \\ \\ \\ $ It has the following relationships: $ \\frac{r_{max}}{b} = \\frac{b}{r_{min}} $ and $ b=\\frac{P}{\\sqrt{1-\\epsilon^2}} $<br>\n",
    "    $ r $ is the current distance between the planet and the Sun <br>\n",
    "    $\\epsilon$ is the eccentricity of the orbit which is the coefficient of variation between $ r_{max} $ and $ r_{min} $<br>\n",
    "    $ \\ \\ \\ \\ \\ $ This is represented mathematically as: $\\epsilon = \\frac{r_{max}-r_{min}}{r_{max}+r_{min}} $ <br>\n",
    "    $\\theta$ is the angle between the planet's current position to its closest position<br>\n",
    "    The special case of an ellipse with an $ \\epsilon $ of 0 is a circle as the equation becomes $ r=\\frac{P}{1} = P $ <br>\n",
    "    $ A $ is the area of the orbit <br>\n",
    "    $ \\ \\ \\ \\ \\ $ This is represented mathematically as: $ A=\\pi ab $\n",
    "    \n",
    "</p>"
   ]
  },
  {
   "cell_type": "markdown",
   "id": "9eadc0eb",
   "metadata": {},
   "source": [
    "<h4> Kepler's 2'nd Law:</h4>\n",
    "<p>\n",
    "    A line segment joining a planet and the Sun sweeps out equal areas during equal intervals of time.<br>\n",
    "    <img align=\"left\" src=\"K2ndlaw.gif\" width=600; height=300;>[6]<br>\n",
    "</p>\n",
    "<br><br><br><br><br><br><br><br><br><br><br><br><br><br><br><br><br><br>\n"
   ]
  },
  {
   "cell_type": "markdown",
   "id": "b6a1c38e",
   "metadata": {},
   "source": [
    "<h4> Kepler's 3'rd Law:</h4>\n",
    "\n",
    "<p>\n",
    "    The ratio of the square of an object's orbital period with the cube of the semi-major axis of its orbit is the same for all objects orbiting the same primary.<br>\n",
    "    The following table shows the data used by Kepler to empirically derive his 3'rd law:<br>\n",
    " </p>   \n",
    "    <img align=\"left\" src=\"keplerdata.png\"> [6]\n",
    "    <br><br><br><br><br><br><br><br><br><br><br><br>\n",
    "    Using modern data the results still hold true <br>\n",
    "    <img align=\"left\" src=\"wolfdata.png\"> [6]\n",
    "    <br><br><br><br><br><br><br><br><br><br><br><br><br><br><br>\n",
    "    The log plot of the semi-major axis vs orbital period of the planets in our solar system illustrates this relationship<br>\n",
    "    <img align=\"left\" src=\"logpatterns.png\">[6] "
   ]
  },
  {
   "cell_type": "markdown",
   "id": "6fcef79e",
   "metadata": {},
   "source": [
    "## Elements of Orbital Geometry\n",
    "There are five elements needed to determine the geometry of a satellite’s orbit. \n",
    "\n",
    "<p>$a$: &nbsp;&nbsp;&nbsp; Semi-Major Axis</p>\n",
    "<p> &nbsp;&nbsp;&nbsp;&nbsp;&nbsp;&nbsp;&nbsp;&nbsp;&nbsp;&nbsp;&nbsp;&nbsp;&nbsp;&nbsp;\n",
    "    Since satellite orbits are elliptical the semi-major axis determines the size as well as the period of those orbits. <br></p>\n",
    "    <p>&nbsp;&nbsp;&nbsp;&nbsp;&nbsp;&nbsp;&nbsp;&nbsp;&nbsp;&nbsp;&nbsp;&nbsp;&nbsp;&nbsp;\n",
    "    In geometry, the major axis of an ellipse is its longest diameter: a line segment that runs through the center and both foci, with ends at the widest      points of the perimeter.<br>&nbsp;&nbsp;&nbsp;&nbsp;&nbsp;&nbsp;&nbsp;&nbsp;&nbsp;&nbsp;&nbsp;&nbsp;&nbsp;&nbsp;\n",
    "The semi-major axis (major semiaxis) is the longest semidiameter or one half of the major axis, and thus runs from the center, through a focus, and to the perimeter.<br>&nbsp;&nbsp;&nbsp;&nbsp;&nbsp;&nbsp;&nbsp;&nbsp;&nbsp;&nbsp;&nbsp;&nbsp;&nbsp;&nbsp;\n",
    "    The semi-minor axis (minor semiaxis) of an ellipse or hyperbola is a line segment that is at right angles with the semi-major axis and has one end at the center of the<br>&nbsp;&nbsp;&nbsp;&nbsp;&nbsp;&nbsp;&nbsp;&nbsp;&nbsp;&nbsp;&nbsp;&nbsp;&nbsp;&nbsp;\n",
    "    conic section. For the special case of a circle, the lengths of the semi-axes are both equal to the radius of the circle. [4]<br>\n",
    "\n",
    "</p>\n",
    "<p>$e$: &nbsp;&nbsp;&nbsp; Eccentricity</p>\n",
    "<p>$i$: &nbsp;&nbsp;&nbsp; Inclination</p>\n",
    "<p>$\\Omega$: &nbsp;&nbsp;&nbsp; Right Ascension of Ascending Node (RANN)   </p>   \n",
    "<p>$\\omega$: &nbsp;&nbsp;&nbsp;Argument of Periapsis / Perigee</p>\n",
    "\n"
   ]
  },
  {
   "cell_type": "markdown",
   "id": "2a7e17c1",
   "metadata": {},
   "source": [
    "## Get and Store the Satellites Orbital Data\n",
    "\n",
    "Satellite position data is transmitted in a “Two Line Element” referred to as TLE.  This code is the standard used by both NORAD and NASA.  Ironically this code generally contains 3 lines.  These lines are 0-2 with line 0 being optional and unlabeled.  If line 0 is included it will contain the  satellite’s 24 character name.  Lines 1 and 2 contain the standard Two-Line Orbital Element Set.[2] \n"
   ]
  },
  {
   "cell_type": "markdown",
   "id": "d2ed3105",
   "metadata": {},
   "source": [
    "Line 0 break down:<br>\n",
    "<img align=\"left\" src=\"Field%201.PNG\">[3]\n"
   ]
  },
  {
   "cell_type": "markdown",
   "id": "077edcc0",
   "metadata": {},
   "source": [
    "Line 1 break down:<br>\n",
    "<img align=\"left\" src=\"TLE%20line%201.PNG\">[3]</p>\n",
    "<img align=\"left\" src=\"TLE%20line%201%20meaning.PNG\">"
   ]
  },
  {
   "cell_type": "markdown",
   "id": "a66cabcc",
   "metadata": {},
   "source": [
    "Line 2 break down:<br>\n",
    "<img align=\"left\" src=\"TLE%20line%202.PNG\">[3]</p>\n",
    "<img align=\"left\" src=\"TLE%20line%202%20meaning.PNG\">"
   ]
  },
  {
   "cell_type": "code",
   "execution_count": 1,
   "id": "b798af2b",
   "metadata": {},
   "outputs": [
    {
     "data": {
      "text/plain": [
       "3.986004418e14"
      ]
     },
     "execution_count": 1,
     "metadata": {},
     "output_type": "execute_result"
    }
   ],
   "source": [
    "# Constants \n",
    "Er = 637100         #Earth's radius in meters\n",
    "Em = 5.9722e24      #Earth's Mass\n",
    "Eω = (2π)/(86400)   #Earth's angular velocity in m/s\n",
    "Eϵ = 0.016751       #Earth's eccentricity \n",
    "Sr = 695700000      #Sun's radious in meters\n",
    "G  = 6.673e-11      #Gravitational constant\n",
    "μ  = 3.986004418e14 #Standard gravitational parameter in m^3/s^2"
   ]
  },
  {
   "cell_type": "markdown",
   "id": "8a3b5fed",
   "metadata": {},
   "source": [
    "## Bibliography:\n",
    "1. “CubeSat.” Wikipedia, Wikimedia Foundation, 20 June 2021, en.wikipedia.org/wiki/CubeSat. \n",
    "2. CelesTrak: Current NORAD Two-Line Element Sets. Available at https://www.celestrak.com/NORAD/\n",
    "3. “Two-Line Element Set.” Wikipedia, Wikimedia Foundation, 22 Mar. 2021, en.wikipedia.org/wiki/Two-line_element_set. \n",
    "4. \"The Geometry of Orbits: Ellipses, Parabolas, and Hyperbolas\". www.bogan.ca.\n",
    "5. OpenStax, openstax.org/details/books/astronomy. \n",
    "6. “Kepler's Laws of Planetary Motion.” Wikipedia, Wikimedia Foundation, 18 May 2021, en.wikipedia.org/wiki/Kepler%27s_laws_of_planetary_motion. "
   ]
  }
 ],
 "metadata": {
  "kernelspec": {
   "display_name": "Julia 1.6.1",
   "language": "julia",
   "name": "julia-1.6"
  },
  "language_info": {
   "file_extension": ".jl",
   "mimetype": "application/julia",
   "name": "julia",
   "version": "1.6.1"
  }
 },
 "nbformat": 4,
 "nbformat_minor": 5
}
