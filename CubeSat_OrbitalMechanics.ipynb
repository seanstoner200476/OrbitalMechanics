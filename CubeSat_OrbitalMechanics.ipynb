{
 "cells": [
  {
   "cell_type": "markdown",
   "id": "448e89c4",
   "metadata": {},
   "source": [
    "## Keplers Laws of Satellite Orbits\n",
    "Johannes Kepler lived in Graz Austria in the 17th century. Kepler was forced to leave Graz due to religious turmoil at the time.  He found a position working for the famous astronomer Tyco Brahe in Prague.  He was tasked with understanding the orbit of mercury which at the time did not fit into any mathematical models accurately.  After a long struggle, he was able to determine that planetary orbits were elliptical using Tyco’s extensive astronomical data.  This led him to discover the three law's of planatary orbit which were named after him[5]<br>\n",
    "<br>\n",
    "<h4> Kepler's 1'st Law: </h4>\n",
    "\n",
    "&nbsp;&nbsp;&nbsp;&nbsp;&nbsp;&nbsp;&nbsp;&nbsp;&nbsp;&nbsp;&nbsp;&nbsp;&nbsp;&nbsp; The orbit of a planet is an ellipse with the the sun at one focal point as seen in the graphic below<br>\n",
    "\n",
    "<img align=\"left\" src=\"K1stlaw.png\" ><br>\n",
    "\n",
    "<p>\n",
    "    &nbsp;&nbsp;In the image on the left there are 2 focal points.  One is the sun and the other is a virtual point used to define the ellipse.  Both the semi-major (a) and minor (b) axies are displayed.  The simi-major axis will play a key role in predicting future satalight positions from the given conditions. \n",
    "</p>\n",
    "<br><br><br><br><br><br><br><br><br><br><br><br><br><br>\n",
    "<h4> Kepler's 2'nd Law:</h4>\n",
    "<p>\n",
    "    A line segment joining a planet and the Sun sweeps out equal areas during equal intervals of time.<br>\n",
    "    <img align=\"left\" src=\"K2ndlaw.gif\" width=600; height=300;>[6]<br>\n",
    "</p>\n",
    "\n",
    "<h4> Kepler's 3'rd Law:</h4>\n",
    "<br><br><br><br><br><br><br><br><br><br><br><br><br><br><br><br><br>\n",
    "<p>\n",
    "    The ratio of the square of an object's orbital period with the cube of the semi-major axis of its orbit is the same for all objects orbiting the same primary.<br>\n",
    "    The following table shows the data used by Kepler to empirically derive his 3'rd law:<br>\n",
    " </p>   \n",
    "    <img align=\"left\" src=\"keplerdata.png\"> [6]\n",
    "    <br><br><br><br><br><br><br><br><br><br><br><br>\n",
    "    Using modern data the results still hold true <br>\n",
    "    <img align=\"left\" src=\"wolfdata.png\"> [6]\n",
    "    <br><br><br><br><br><br><br><br><br><br><br><br><br><br><br>\n",
    "    The log plot of the smei-major axis vs orbital period of the planets in our solar system illistrates this relationship<br>\n",
    "    <img align=\"left\" src=\"logpatterns.png\">[6] \n",
    "\n",
    "\n",
    "\n"
   ]
  },
  {
   "cell_type": "markdown",
   "id": "6fcef79e",
   "metadata": {},
   "source": [
    "## Elements of Orbital Geometry\n",
    "There are five elements needed to determine the geometry of a satellite’s orbit. \n",
    "\n",
    "<p>$a$: &nbsp;&nbsp;&nbsp; Semi-Major Axis</p>\n",
    "<p> &nbsp;&nbsp;&nbsp;&nbsp;&nbsp;&nbsp;&nbsp;&nbsp;&nbsp;&nbsp;&nbsp;&nbsp;&nbsp;&nbsp;\n",
    "    Since satellite orbits are elliptical the semi-major axis determines the size as well as the period of those orbits. <br></p>\n",
    "    <p>&nbsp;&nbsp;&nbsp;&nbsp;&nbsp;&nbsp;&nbsp;&nbsp;&nbsp;&nbsp;&nbsp;&nbsp;&nbsp;&nbsp;\n",
    "    In geometry, the major axis of an ellipse is its longest diameter: a line segment that runs through the center and both foci, with ends at the widest      points of the perimeter.<br>&nbsp;&nbsp;&nbsp;&nbsp;&nbsp;&nbsp;&nbsp;&nbsp;&nbsp;&nbsp;&nbsp;&nbsp;&nbsp;&nbsp;\n",
    "The semi-major axis (major semiaxis) is the longest semidiameter or one half of the major axis, and thus runs from the centre, through a focus, and to the perimeter.<br>&nbsp;&nbsp;&nbsp;&nbsp;&nbsp;&nbsp;&nbsp;&nbsp;&nbsp;&nbsp;&nbsp;&nbsp;&nbsp;&nbsp;\n",
    "    The semi-minor axis (minor semiaxis) of an ellipse or hyperbola is a line segment that is at right angles with the semi-major axis and has one end at the center of the<br>&nbsp;&nbsp;&nbsp;&nbsp;&nbsp;&nbsp;&nbsp;&nbsp;&nbsp;&nbsp;&nbsp;&nbsp;&nbsp;&nbsp;\n",
    "    conic section. For the special case of a circle, the lengths of the semi-axes are both equal to the radius of the circle. [4]<br>\n",
    "\n",
    "</p>\n",
    "<p>$e$: &nbsp;&nbsp;&nbsp; Eccentricity</p>\n",
    "<p>$i$: &nbsp;&nbsp;&nbsp; Inclination</p>\n",
    "<p>$\\Omega$: &nbsp;&nbsp;&nbsp; Right Ascension of Ascending Node (RANN)   </p>   \n",
    "<p>$\\omega$: &nbsp;&nbsp;&nbsp;Argumet of Periapsis / Perigee</p>\n",
    "\n"
   ]
  },
  {
   "cell_type": "markdown",
   "id": "2a7e17c1",
   "metadata": {},
   "source": [
    "## Get and Store the Satellites Orbital Data\n",
    "\n",
    "Satellite position data is transmitted in a “Two Line Element” referred to as TLE.  This code is the standard used by both NORAD and NASA.  Ironically this code generally contains 3 lines.  These lines are 0-2 with line 0 being optional and unlabeled.  If line 0 is included it will contain the satellite’s 24 character name.  Lines 1 and 2 contain the standard Two-Line Orbital Element Set.[2] \n"
   ]
  },
  {
   "cell_type": "markdown",
   "id": "d2ed3105",
   "metadata": {},
   "source": [
    "Line 0 break down:<br>\n",
    "<img align=\"left\" src=\"Field%201.PNG\">[3]\n"
   ]
  },
  {
   "cell_type": "markdown",
   "id": "077edcc0",
   "metadata": {},
   "source": [
    "Line 1 break down:<br>\n",
    "<img align=\"left\" src=\"TLE%20line%201.PNG\">[3]</p>\n",
    "<img align=\"left\" src=\"TLE%20line%201%20meaning.PNG\">"
   ]
  },
  {
   "cell_type": "markdown",
   "id": "a66cabcc",
   "metadata": {},
   "source": [
    "Line 2 break down:<br>\n",
    "<img align=\"left\" src=\"TLE%20line%202.PNG\">[3]</p>\n",
    "<img align=\"left\" src=\"TLE%20line%202%20meaning.PNG\">"
   ]
  },
  {
   "cell_type": "code",
   "execution_count": 1,
   "id": "b798af2b",
   "metadata": {},
   "outputs": [
    {
     "data": {
      "text/plain": [
       "3.986004418e14"
      ]
     },
     "execution_count": 1,
     "metadata": {},
     "output_type": "execute_result"
    }
   ],
   "source": [
    "# Constants \n",
    "Er = 637100         #Earth's radius in meters\n",
    "Em = 5.9722e24      #Earth's Mass\n",
    "Eω = (2π)/(86400)   #Earth's angular velocity in m/s\n",
    "Eϵ = 0.016751       #Earth's eccentricity \n",
    "Sr = 695700000      #Sun's radious in meters\n",
    "G  = 6.673e-11      #Gravitational constant\n",
    "μ  = 3.986004418e14 #Standard gravitational parameter in m^3/s^2"
   ]
  },
  {
   "cell_type": "markdown",
   "id": "8a3b5fed",
   "metadata": {},
   "source": [
    "## Bibliography:\n",
    "1. “CubeSat.” Wikipedia, Wikimedia Foundation, 20 June 2021, en.wikipedia.org/wiki/CubeSat. \n",
    "2. CelesTrak: Current NORAD Two-Line Element Sets. Available at https://www.celestrak.com/NORAD/\n",
    "3. “Two-Line Element Set.” Wikipedia, Wikimedia Foundation, 22 Mar. 2021, en.wikipedia.org/wiki/Two-line_element_set. \n",
    "4. \"The Geometry of Orbits: Ellipses, Parabolas, and Hyperbolas\". www.bogan.ca.\n",
    "5. OpenStax, openstax.org/details/books/astronomy. \n",
    "6. “Kepler's Laws of Planetary Motion.” Wikipedia, Wikimedia Foundation, 18 May 2021, en.wikipedia.org/wiki/Kepler%27s_laws_of_planetary_motion. "
   ]
  }
 ],
 "metadata": {
  "kernelspec": {
   "display_name": "Julia 1.6.1",
   "language": "julia",
   "name": "julia-1.6"
  },
  "language_info": {
   "file_extension": ".jl",
   "mimetype": "application/julia",
   "name": "julia",
   "version": "1.6.1"
  }
 },
 "nbformat": 4,
 "nbformat_minor": 5
}
